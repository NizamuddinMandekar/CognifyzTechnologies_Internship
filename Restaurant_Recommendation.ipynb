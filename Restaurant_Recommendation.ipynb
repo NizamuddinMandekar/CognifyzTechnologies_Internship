{
  "nbformat": 4,
  "nbformat_minor": 0,
  "metadata": {
    "colab": {
      "provenance": [],
      "authorship_tag": "ABX9TyMN3PuxB5dGaZ8anwN5kfIY",
      "include_colab_link": true
    },
    "kernelspec": {
      "name": "python3",
      "display_name": "Python 3"
    },
    "language_info": {
      "name": "python"
    }
  },
  "cells": [
    {
      "cell_type": "markdown",
      "metadata": {
        "id": "view-in-github",
        "colab_type": "text"
      },
      "source": [
        "<a href=\"https://colab.research.google.com/github/NizamuddinMandekar/CognifyzTechnologies_ML-Internship/blob/main/Restaurant_Recommendation.ipynb\" target=\"_parent\"><img src=\"https://colab.research.google.com/assets/colab-badge.svg\" alt=\"Open In Colab\"/></a>"
      ]
    },
    {
      "cell_type": "code",
      "execution_count": 3,
      "metadata": {
        "id": "eGLQ7c7JhMBl",
        "colab": {
          "base_uri": "https://localhost:8080/",
          "height": 633
        },
        "outputId": "a17fe265-a6ba-480e-e8fd-5fe20979601b"
      },
      "outputs": [
        {
          "output_type": "display_data",
          "data": {
            "text/plain": [
              "<Figure size 800x600 with 1 Axes>"
            ],
            "image/png": "[encoded data removed]"
          },
          "metadata": {}
        },
        {
          "output_type": "stream",
          "name": "stdout",
          "text": [
            "Top 5 Recommended Restaurants based on Sample User Preferences:\n",
            "Empty DataFrame\n",
            "Columns: [Restaurant Name, Cuisines, City, Price range]\n",
            "Index: []\n"
          ]
        }
      ],
      "source": [
        "import pandas as pd\n",
        "import matplotlib.pyplot as plt\n",
        "import seaborn as sns\n",
        "from sklearn.feature_extraction.text import TfidfVectorizer\n",
        "from sklearn.metrics.pairwise import linear_kernel\n",
        "\n",
        "# Load the dataset\n",
        "restaurant_data = pd.read_csv(\"/content/drive/MyDrive/CognifyzTechnologies_ML-Internship/Dataset .csv\")\n",
        "\n",
        "restaurant_data.dropna(inplace=True)\n",
        "\n",
        "restaurant_data['features'] = restaurant_data['Cuisines'] + ' ' + restaurant_data['City']\n",
        "\n",
        "tfidf_vectorizer = TfidfVectorizer(stop_words='english')\n",
        "\n",
        "tfidf_matrix = tfidf_vectorizer.fit_transform(restaurant_data['features'])\n",
        "\n",
        "cosine_sim = linear_kernel(tfidf_matrix, tfidf_matrix)\n",
        "\n",
        "def recommend_restaurants(user_preferences, cosine_sim=cosine_sim):\n",
        "\n",
        "    filtered_restaurants = restaurant_data.copy()\n",
        "    for criterion, value in user_preferences.items():\n",
        "        if criterion in filtered_restaurants.columns:\n",
        "            filtered_restaurants = filtered_restaurants[filtered_restaurants[criterion] == value]\n",
        "\n",
        "    indices = filtered_restaurants.index.tolist()\n",
        "\n",
        "    sim_scores = list(enumerate(cosine_sim[indices]))\n",
        "\n",
        "    sim_scores = sorted(sim_scores, key=lambda x: x[1], reverse=True)\n",
        "\n",
        "    top_indices = [x[0] for x in sim_scores[1:6]]\n",
        "    recommendations = restaurant_data.iloc[top_indices]\n",
        "\n",
        "    return recommendations\n",
        "\n",
        "plt.figure(figsize=(8, 6))\n",
        "sns.countplot(data=restaurant_data, x='Price range')\n",
        "plt.title('Distribution of Price Range')\n",
        "plt.xlabel('Price Range')\n",
        "plt.ylabel('Count')\n",
        "plt.show()\n",
        "\n",
        "sample_preferences = {\n",
        "    'Cuisines': 'Italian',\n",
        "    'Price range': 2,\n",
        "    'City': 'New York'\n",
        "}\n",
        "\n",
        "sample_recommendations = recommend_restaurants(sample_preferences)\n",
        "print(\"Top 5 Recommended Restaurants based on Sample User Preferences:\")\n",
        "print(sample_recommendations[['Restaurant Name', 'Cuisines', 'City', 'Price range']])\n"
      ]
    },
    {
      "cell_type": "code",
      "source": [
        "from google.colab import drive\n",
        "drive.mount('/content/drive')"
      ],
      "metadata": {
        "colab": {
          "base_uri": "https://localhost:8080/"
        },
        "id": "MYDA01XYjhvg",
        "outputId": "7f811466-941f-44b6-d62c-1784c0aa6399"
      },
      "execution_count": 1,
      "outputs": [
        {
          "output_type": "stream",
          "name": "stdout",
          "text": [
            "Mounted at /content/drive\n"
          ]
        }
      ]
    }
  ]
}